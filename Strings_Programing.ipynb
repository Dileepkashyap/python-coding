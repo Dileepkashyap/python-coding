{
 "cells": [
  {
   "cell_type": "code",
   "execution_count": 16,
   "id": "8ffa90c7-8a06-4bd6-9534-18adee3e0c60",
   "metadata": {},
   "outputs": [
    {
     "data": {
      "text/plain": [
       "'A,B,C,D'"
      ]
     },
     "execution_count": 16,
     "metadata": {},
     "output_type": "execute_result"
    }
   ],
   "source": [
    "\n",
    "def touppercase(s1):\n",
    "    nstr=\"\"\n",
    "    for i in range(len(str1)):\n",
    "        if \"a\"<=s1[i]<=\"z\":\n",
    "            nstr=nstr+chr(ord(s1[i])-32)\n",
    "        else:\n",
    "            nstr=nstr+s1[i]\n",
    "    return nstr\n",
    "\n",
    "def toLowercase(s1):\n",
    "    nstr=\"\"\n",
    "    for i in range(len(str1)):\n",
    "        if \"A\"<=s1[i]<=\"Z\":\n",
    "            nstr=nstr+chr(ord(s1[i])+32)\n",
    "        else:\n",
    "            nstr=nstr+s1[i]\n",
    "    return nstr\n",
    "s1=(\"a,b,c,d\")\n",
    "touppercase(s1)\n",
    "s1=(\"a,b,c,d\")\n",
    "touppercase(s1)\n",
    "\n",
    "        \n",
    "            \n"
   ]
  },
  {
   "cell_type": "code",
   "execution_count": null,
   "id": "b486be1a-5a16-4416-b26e-668032cbc5be",
   "metadata": {},
   "outputs": [],
   "source": [
    "def swapcases(s1):\n",
    "    nstr=\"\"\n",
    "    for i in range(len(s1)):\n",
    "        if \"a\"<=s1[i]<=\"z\":\n",
    "            nstr=nstr+chr(ord(s1[i])-32)\n",
    "        elif \"A\"<=s1[i]<=\"Z\":\n",
    "            nstr=nstr+chr(ord(s1[i])+32)\n",
    "        else:\n",
    "            nstr=nstr+s1[i]\n",
    "    return nstr\n",
    "s1=input(\"enter the value\")\n",
    "print(\"before swapling:\",s1)\n",
    "res=swapcases(s1)\n",
    "print(\"Affter swaping:\",res)"
   ]
  },
  {
   "cell_type": "code",
   "execution_count": null,
   "id": "d7924dc5-ffbf-4119-bfd5-644ea940cab4",
   "metadata": {},
   "outputs": [],
   "source": [
    "#reverse string#incrementing loop\n",
    "def reverseincrement(s1):\n",
    "    nstr=\"\"\n",
    "    for i in range(len(s1)):\n",
    "        nstr=s1[i]+nstr\n",
    "    return nstr\n",
    "s1=input(\"enter the value\")\n",
    "res=reverseincrement(s1)\n",
    "print(res)"
   ]
  },
  {
   "cell_type": "code",
   "execution_count": 13,
   "id": "b282be01-d93d-47e8-a8eb-e7c9ad92fd0b",
   "metadata": {},
   "outputs": [
    {
     "name": "stdin",
     "output_type": "stream",
     "text": [
      "enter the value sky is blue\n"
     ]
    },
    {
     "name": "stdout",
     "output_type": "stream",
     "text": [
      "origianal string: sky is blue\n",
      "reverse string decrementing : eulb si yks\n"
     ]
    }
   ],
   "source": [
    "#decerementing loop\n",
    "def reversedecrement(s1):\n",
    "    nstr=\"\"\n",
    "    for i in range(len(s1)-1,0-1,-1):\n",
    "        nstr=nstr+s1[i]\n",
    "    return nstr\n",
    "s1=input(\"enter the value\")\n",
    "print(\"origianal string:\",s1)\n",
    "res=reversedecrement(s1)\n",
    "print(\"reverse string decrementing :\",res)"
   ]
  },
  {
   "cell_type": "code",
   "execution_count": 25,
   "id": "413f98a1-beef-4b94-b092-9e31a35dc15c",
   "metadata": {},
   "outputs": [
    {
     "name": "stdin",
     "output_type": "stream",
     "text": [
      "enter the value sky is blue\n"
     ]
    },
    {
     "name": "stdout",
     "output_type": "stream",
     "text": [
      "origianal string: sky is blue\n",
      "reverse string decrementing : eulb si yks\n"
     ]
    }
   ],
   "source": [
    "#revering using \n",
    "def revincrerecc(s1,nstr,i):\n",
    "    if i>=len(s1):\n",
    "        return nstr\n",
    "    nstr=s1[i]+nstr\n",
    "    return revincrerecc(s1,nstr,(i+1))\n",
    "s1=input(\"enter the value\")\n",
    "print(\"origianal string:\",s1)\n",
    "\n",
    "\n",
    "\n",
    "res=revincrerecc(s1,\"\",0)\n",
    "print(\"reverse string decrementing :\",res)"
   ]
  },
  {
   "cell_type": "code",
   "execution_count": 19,
   "id": "5d0f4cca-a74a-407c-8096-7dce788614c8",
   "metadata": {},
   "outputs": [
    {
     "name": "stdin",
     "output_type": "stream",
     "text": [
      "enter the value sky is\n"
     ]
    },
    {
     "name": "stdout",
     "output_type": "stream",
     "text": [
      "origianal string: sky is\n",
      "reverse string decrementing : si yks\n"
     ]
    }
   ],
   "source": [
    "def revdecrementrecc(s1,nstr,i):\n",
    "    if i<0:\n",
    "        return nstr\n",
    "    nstr=nstr+s1[i]\n",
    "    return revdecrementrecc(s1,nstr,(i-1))\n",
    "s1=input(\"enter the value\")\n",
    "print(\"origianal string:\",s1)\n",
    "res=revdecrementrecc(s1,\"\",len(s1)-1)\n",
    "print(\"reverse string decrementing :\",res)"
   ]
  },
  {
   "cell_type": "code",
   "execution_count": 21,
   "id": "163fff44-3fd9-4f71-8153-86819433ce71",
   "metadata": {},
   "outputs": [
    {
     "name": "stdin",
     "output_type": "stream",
     "text": [
      "enter the value sky is blue\n"
     ]
    },
    {
     "name": "stdout",
     "output_type": "stream",
     "text": [
      "origianal string: sky is blue\n",
      "reverse string decrementing : esky is blu\n"
     ]
    }
   ],
   "source": [
    "def revstrlist(s1):\n",
    "    #1st way==>list()\n",
    "    #l1=list(s1)\n",
    "    #2nd way==>customizednlist\n",
    "    l1=[]\n",
    "    for i in s1:\n",
    "        l1.append(i)\n",
    "    #logic\n",
    "    i,j,=0,len(l1)-1\n",
    "    while i<+j:\n",
    "        l1[i],l1[j]=l1[j],l1[i]\n",
    "        i+=1\n",
    "        j-+1\n",
    "    #1st way==>join()\n",
    "    #nstr=\"\".join(l1)\n",
    "    #2nd way==>customized \n",
    "    nstr=\"\"\n",
    "    for i in l1:\n",
    "        nstr=nstr+i\n",
    "    return nstr\n",
    "s1=input(\"enter the value\")\n",
    "print(\"origianal string:\",s1)\n",
    "res=revstrlist(s1)\n",
    "print(\"reverse string decrementing :\",res)"
   ]
  },
  {
   "cell_type": "code",
   "execution_count": 12,
   "id": "7e77e740-621b-477d-a3fc-14e4a3f98653",
   "metadata": {},
   "outputs": [
    {
     "name": "stdin",
     "output_type": "stream",
     "text": [
      "enter the sentence: sky   is      blue\n"
     ]
    },
    {
     "name": "stdout",
     "output_type": "stream",
     "text": [
      "Sentence before reversing: sky   is      blue\n",
      "Sentence after reversing: blue is sky\n"
     ]
    }
   ],
   "source": [
    "def reverwords(s1):\n",
    "    i=0\n",
    "    s1=s1+\" \"\n",
    "    nwrd=\"\"\n",
    "    nsen=\"\"\n",
    "    while i<len(s1):\n",
    "        if s1[i]!=\" \":\n",
    "            nwrd=nwrd+s1[i]\n",
    "        elif nwrd!=\"\":#required space\n",
    "            if nsen!=\"\":\n",
    "                nsen=nwrd+\" \"+nsen\n",
    "            else:\n",
    "                nsen=nwrd+nsen\n",
    "            nwrd=\"\"\n",
    "        i+=1\n",
    "    return nsen\n",
    "s1=input(\"enter the sentence:\")\n",
    "print(\"Sentence before reversing:\",s1)\n",
    "res=reverwords(s1)\n",
    "print(\"Sentence after reversing:\",res)"
   ]
  },
  {
   "cell_type": "code",
   "execution_count": 11,
   "id": "a75de109-5c59-4d0a-8a58-e93356af9e0f",
   "metadata": {},
   "outputs": [
    {
     "name": "stdin",
     "output_type": "stream",
     "text": [
      "enter the value Mr. Owl ate my metal worm\n"
     ]
    },
    {
     "name": "stdout",
     "output_type": "stream",
     "text": [
      "True\n"
     ]
    }
   ],
   "source": [
    "def palindromefiltraions(s):\n",
    "    nstr=\"\"\n",
    "    for i in range(0,len(s)):\n",
    "        #uppercase\n",
    "        if \"A\"<=s[i]<=\"Z\":\n",
    "            nstr=nstr+chr(ord(s[i])+32)            \n",
    "        #lowercase&char digits\n",
    "        elif \"a\"<=s[i]<=\"z\" or \"0\"<=s[i]<=\"9\":\n",
    "            nstr=nstr+s[i]\n",
    "    return nstr\n",
    "def strpalindrome(s):\n",
    "    s=palindromefiltraions(s)\n",
    "    i,j=0,len(s)-1\n",
    "    while i<=j:\n",
    "        if s[i]!=s[j]:\n",
    "            return False\n",
    "        i+=1\n",
    "        j-=1\n",
    "    return True\n",
    "s=input(\"enter the value\")\n",
    "res=strpalindrome(s)\n",
    "print(res)\n",
    "#O/P:Mr. Owl ate my metal worm    \n",
    "        "
   ]
  },
  {
   "cell_type": "code",
   "execution_count": 25,
   "id": "4b0ac776-8abb-4b70-ae06-86ffc9973e63",
   "metadata": {},
   "outputs": [
    {
     "name": "stdin",
     "output_type": "stream",
     "text": [
      "enter the value The quick brown fox jumps over the lazy dog\n"
     ]
    },
    {
     "name": "stdout",
     "output_type": "stream",
     "text": [
      "It is Pangram\n"
     ]
    }
   ],
   "source": [
    "def filterPangram(s):\n",
    "    nstr=\"\"\n",
    "    for i in range(0,len(s)):\n",
    "        #uppercase\n",
    "        if \"A\"<=s[i]<=\"Z\":\n",
    "            nstr=nstr+chr(ord(s[i])+32)            \n",
    "        #lowercase&char digits\n",
    "        elif \"a\"<=s[i]<=\"z\" or \"0\"<=s[i]<=\"9\":\n",
    "            nstr=nstr+s[i]\n",
    "    return nstr\n",
    "def isPangram(s):\n",
    "    s=filterPangram(s)\n",
    "    if len(s)<26:\n",
    "        return False\n",
    "    ascii=[0]*26\n",
    "    for i in range(len(s)):\n",
    "        ascii[ord(s[i])-97]+=1\n",
    "\n",
    "#print(ascii)\n",
    "    for i in ascii:\n",
    "        if i==0:\n",
    "            return False\n",
    "    \n",
    "    return True\n",
    "s=input(\"enter the value\")\n",
    "Flag=isPangram(s)\n",
    "if Flag:\n",
    "    print(\"It is Pangram\")\n",
    "else:\n",
    "    print(\"It is not Pangram\")\n",
    "\n",
    "#O/p:The quick brown fox jumps over the lazy dog"
   ]
  },
  {
   "cell_type": "code",
   "execution_count": 17,
   "id": "bb039f4d-7215-40dd-8d12-a77bac771f0e",
   "metadata": {},
   "outputs": [
    {
     "name": "stdin",
     "output_type": "stream",
     "text": [
      "enter string 1 care\n",
      "enter string 2 race\n"
     ]
    },
    {
     "name": "stdout",
     "output_type": "stream",
     "text": [
      "it is anagram\n"
     ]
    }
   ],
   "source": [
    "s1=input(\"enter string 1\")\n",
    "s2=input(\"enter string 2\")\n",
    "def anagaramfiltrations(s):\n",
    "    nstr=\"\"\n",
    "    for i in range(0,len(s)):\n",
    "        #uppercase\n",
    "        if \"A\"<=s[i]<=\"Z\":\n",
    "            nstr+=chr(ord(s[i])+32)            \n",
    "        #lowercase&char digits\n",
    "        elif \"a\"<=s[i]<=\"z\":\n",
    "            nstr+=s[i]\n",
    "    return nstr\n",
    "def isanagram(s1,s2):\n",
    "    s1=anagaramfiltrations(s1)\n",
    "    s2=anagaramfiltrations(s2)\n",
    "    if len(s1)!=len(s2):\n",
    "        return False\n",
    "    ascii=[0]*26\n",
    "\n",
    "    for i in range(len(s1)):\n",
    "        ascii[ord(s1[i])-97]+=1\n",
    "        ascii[ord(s2[i])-97]-=1\n",
    "    for i in ascii:\n",
    "        if i!=0:\n",
    "            return False\n",
    "    return True\n",
    "flag=isanagram(s1,s2)\n",
    "if flag:\n",
    "    print(\"it is anagram\")\n",
    "else:\n",
    "    print(\"it is not anagarm\")"
   ]
  },
  {
   "cell_type": "code",
   "execution_count": null,
   "id": "fba31b25-b694-4533-b4cb-400bf0072520",
   "metadata": {},
   "outputs": [],
   "source": []
  }
 ],
 "metadata": {
  "kernelspec": {
   "display_name": "Python 3 (ipykernel)",
   "language": "python",
   "name": "python3"
  },
  "language_info": {
   "codemirror_mode": {
    "name": "ipython",
    "version": 3
   },
   "file_extension": ".py",
   "mimetype": "text/x-python",
   "name": "python",
   "nbconvert_exporter": "python",
   "pygments_lexer": "ipython3",
   "version": "3.12.4"
  }
 },
 "nbformat": 4,
 "nbformat_minor": 5
}
