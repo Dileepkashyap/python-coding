{
 "cells": [
  {
   "cell_type": "code",
   "execution_count": 1,
   "id": "6bdc1864-5a8d-4e24-8b3f-4a089db3eb70",
   "metadata": {},
   "outputs": [
    {
     "name": "stdout",
     "output_type": "stream",
     "text": [
      "126\n"
     ]
    }
   ],
   "source": [
    "#Arithmetic operators\n",
    "print(20+15+84+7)"
   ]
  },
  {
   "cell_type": "code",
   "execution_count": 3,
   "id": "d4febff5-e605-46e3-818e-9977460fb28e",
   "metadata": {},
   "outputs": [
    {
     "name": "stdout",
     "output_type": "stream",
     "text": [
      "-37\n"
     ]
    }
   ],
   "source": [
    "print(-48+86-75)"
   ]
  },
  {
   "cell_type": "code",
   "execution_count": 5,
   "id": "44c50607-91ce-4af4-80d5-afb111b1925a",
   "metadata": {},
   "outputs": [
    {
     "name": "stdout",
     "output_type": "stream",
     "text": [
      "-211.36\n"
     ]
    }
   ],
   "source": [
    "print(6.8-4.2+8.26-222.22)"
   ]
  },
  {
   "cell_type": "code",
   "execution_count": 9,
   "id": "b229e9f6-ee7c-4829-bed0-28eede4a04b4",
   "metadata": {},
   "outputs": [
    {
     "name": "stdout",
     "output_type": "stream",
     "text": [
      "232\n",
      "-77\n"
     ]
    }
   ],
   "source": [
    "print(289-80-64+87)\n",
    "print(-77)\n"
   ]
  },
  {
   "cell_type": "code",
   "execution_count": 12,
   "id": "99d18151-ded0-4ed8-933e-68022d72abd7",
   "metadata": {},
   "outputs": [
    {
     "name": "stdout",
     "output_type": "stream",
     "text": [
      "384\n"
     ]
    },
    {
     "ename": "TypeError",
     "evalue": "print() argument after * must be an iterable, not int",
     "output_type": "error",
     "traceback": [
      "\u001b[1;31m---------------------------------------------------------------------------\u001b[0m",
      "\u001b[1;31mTypeError\u001b[0m                                 Traceback (most recent call last)",
      "Cell \u001b[1;32mIn[12], line 2\u001b[0m\n\u001b[0;32m      1\u001b[0m \u001b[38;5;28mprint\u001b[39m((\u001b[38;5;241m8\u001b[39m)\u001b[38;5;241m*\u001b[39m(\u001b[38;5;241m48\u001b[39m))\n\u001b[1;32m----> 2\u001b[0m \u001b[38;5;28mprint\u001b[39m(\u001b[38;5;241m*\u001b[39m\u001b[38;5;241m8\u001b[39m)\n",
      "\u001b[1;31mTypeError\u001b[0m: print() argument after * must be an iterable, not int"
     ]
    }
   ],
   "source": [
    "print((8)*(48))\n",
    "print(*8)"
   ]
  },
  {
   "cell_type": "code",
   "execution_count": 22,
   "id": "aefe7965-940e-4aa2-bbdc-ca9d9b7bea2d",
   "metadata": {},
   "outputs": [
    {
     "name": "stdout",
     "output_type": "stream",
     "text": [
      "625\n"
     ]
    }
   ],
   "source": [
    "print(5**4)"
   ]
  },
  {
   "cell_type": "code",
   "execution_count": 1,
   "id": "ee169b63-0ad9-45db-89ae-5e083890b8ab",
   "metadata": {},
   "outputs": [
    {
     "name": "stdout",
     "output_type": "stream",
     "text": [
      "4\n",
      "4.0\n",
      "0\n"
     ]
    }
   ],
   "source": [
    "print(12//3)\n",
    "print(12/3)\n",
    "print(12%3)"
   ]
  },
  {
   "cell_type": "code",
   "execution_count": 7,
   "id": "d267b121-1e85-4dae-8b9c-63d7a1160543",
   "metadata": {},
   "outputs": [
    {
     "name": "stdout",
     "output_type": "stream",
     "text": [
      "True\n",
      "False\n",
      "True\n"
     ]
    }
   ],
   "source": [
    "print(4>3)\n",
    "print(4==5)\n",
    "print(2<+3)"
   ]
  },
  {
   "cell_type": "code",
   "execution_count": 13,
   "id": "d777c296-02a5-4008-afb1-ad6a75913f51",
   "metadata": {},
   "outputs": [
    {
     "name": "stdout",
     "output_type": "stream",
     "text": [
      "0\n",
      "True\n"
     ]
    }
   ],
   "source": [
    "#and\n",
    "print((10+3)>=(2**3) and (True and True)and(True - True))\n",
    "print((10<=10)and(15>=12)and (True)and(100<1000))"
   ]
  },
  {
   "cell_type": "code",
   "execution_count": 17,
   "id": "aadd9c93-2ca4-4a74-8e14-b8b8f7837d85",
   "metadata": {},
   "outputs": [
    {
     "name": "stdout",
     "output_type": "stream",
     "text": [
      "<class 'tuple'>\n"
     ]
    }
   ],
   "source": [
    "g=100,200,300\n",
    "print(type(g))"
   ]
  },
  {
   "cell_type": "code",
   "execution_count": 29,
   "id": "48982ae4-0a73-4eba-90f5-18ef052b3ff3",
   "metadata": {},
   "outputs": [
    {
     "name": "stdout",
     "output_type": "stream",
     "text": [
      "0\n"
     ]
    }
   ],
   "source": [
    "a=4\n",
    "b=9\n",
    "a>>=b\n",
    "print(a)"
   ]
  },
  {
   "cell_type": "code",
   "execution_count": 39,
   "id": "17d48ae7-967d-47c8-837a-a27b0e481766",
   "metadata": {},
   "outputs": [
    {
     "name": "stdout",
     "output_type": "stream",
     "text": [
      "20\n"
     ]
    }
   ],
   "source": [
    "x1=40\n",
    "y1=20\n",
    "x1-=y1\n",
    "\n",
    "print(x1)"
   ]
  },
  {
   "cell_type": "code",
   "execution_count": 43,
   "id": "2ca6e433-f854-485d-a5ac-595232137d4e",
   "metadata": {},
   "outputs": [
    {
     "name": "stdout",
     "output_type": "stream",
     "text": [
      "-20\n"
     ]
    }
   ],
   "source": [
    "x1=40\n",
    "y1=20\n",
    "x1=y1-x1\n",
    "print(x1)"
   ]
  },
  {
   "cell_type": "code",
   "execution_count": 45,
   "id": "964e7ba5-b15e-4b37-bc66-119b989792a5",
   "metadata": {},
   "outputs": [
    {
     "name": "stdout",
     "output_type": "stream",
     "text": [
      "140714538255896\n",
      "140714538255896\n",
      "140714538255896\n",
      "140714538259096\n",
      "True\n",
      "True\n",
      "False\n"
     ]
    }
   ],
   "source": [
    "a=100\n",
    "b=100\n",
    "c=10**2\n",
    "d=200\n",
    "print(id(a))\n",
    "print(id(b))\n",
    "print(id(c))\n",
    "print(id(d))\n",
    "print(a is b)\n",
    "print(b is c)\n",
    "print(c is d)"
   ]
  },
  {
   "cell_type": "code",
   "execution_count": 13,
   "id": "7b844f61-fd61-449f-a16c-ad0fa6ca9788",
   "metadata": {},
   "outputs": [
    {
     "name": "stdin",
     "output_type": "stream",
     "text": [
      "Enter the num:  75\n"
     ]
    },
    {
     "name": "stdout",
     "output_type": "stream",
     "text": [
      "positive\n",
      "prog exec\n"
     ]
    }
   ],
   "source": [
    "n = int(input(\"Enter the num: \"))\n",
    "if n%3==0 and n%5==0:\n",
    "        print(\"positive\")\n",
    "print(\"prog exec\")"
   ]
  },
  {
   "cell_type": "code",
   "execution_count": 31,
   "id": "65e42cc1-eda3-4613-b0f8-d6a53167b69a",
   "metadata": {},
   "outputs": [
    {
     "name": "stdout",
     "output_type": "stream",
     "text": [
      "prog exec\n"
     ]
    }
   ],
   "source": [
    " a=False\n",
    "if a!=False:\n",
    "    print(\"positive\")\n",
    "print(\"prog exec\")"
   ]
  },
  {
   "cell_type": "code",
   "execution_count": null,
   "id": "94c6a5f3-2426-4c29-bd92-b63b556cc95e",
   "metadata": {},
   "outputs": [],
   "source": [
    "age = int(input(\"Enter the age: \"))\n",
    "if age>=18 and age<=80:\n",
    "    print(\"You can vote\")\n",
    "else:\n",
    "    print(\"Better luck next time\")\n",
    "print(\"Thank you\")\n",
    "\n"
   ]
  },
  {
   "cell_type": "code",
   "execution_count": 62,
   "id": "c30b6f5b-2b3b-4f26-858c-88e5b830ddaf",
   "metadata": {},
   "outputs": [
    {
     "name": "stdin",
     "output_type": "stream",
     "text": [
      "Enter the marks:  80\n"
     ]
    },
    {
     "name": "stdout",
     "output_type": "stream",
     "text": [
      "First Class\n"
     ]
    }
   ],
   "source": [
    "marks=int(input(\"Enter the marks: \"))\n",
    "if marks<=100 and marks>=85:\n",
    "    print(\"Distinction\")\n",
    "elif marks<=85 and marks>=65:\n",
    "    print(\"First Class\")\n",
    "elif marks<=65 and marks>=35:\n",
    "    print(\"Second class\")\n",
    "else:print(\"Better luck next time\")\n"
   ]
  },
  {
   "cell_type": "code",
   "execution_count": 2,
   "id": "20b169d2-e649-44b0-9414-bc05f42aa4ad",
   "metadata": {},
   "outputs": [
    {
     "name": "stdin",
     "output_type": "stream",
     "text": [
      "Enter num:  153\n"
     ]
    },
    {
     "name": "stdout",
     "output_type": "stream",
     "text": [
      "153is not ASN\n"
     ]
    }
   ],
   "source": [
    "def countdig(n):\n",
    "    count=0\n",
    "    if n == 0:\n",
    "        return 1\n",
    "    while n>0:\n",
    "        n=n//10\n",
    "        count+=1\n",
    "        return count\n",
    "\n",
    "n = int(input(\"Enter num: \"))\n",
    "temp = n\n",
    "if(n<0):\n",
    "    n=n*-1\n",
    "pow = countdig(n)\n",
    "asn=0\n",
    "while n>0:\n",
    "    base = n%10\n",
    "    asn = asn+(base**pow)\n",
    "    n=n//10\n",
    "if(temp<0):\n",
    "    asn=asn*-1\n",
    "if temp==asn:\n",
    "    print(f\"{temp}is an ASN\")\n",
    "else:\n",
    "    print(f\"{temp}is not ASN\")\n",
    "\n",
    "    \n"
   ]
  },
  {
   "cell_type": "code",
   "execution_count": 40,
   "id": "1b46d6bf-519b-4aae-873e-857693bd1a1c",
   "metadata": {},
   "outputs": [
    {
     "name": "stdin",
     "output_type": "stream",
     "text": [
      "enter the number 153\n"
     ]
    },
    {
     "data": {
      "text/plain": [
       "True"
      ]
     },
     "execution_count": 40,
     "metadata": {},
     "output_type": "execute_result"
    }
   ],
   "source": [
    "def countdig(n):\n",
    "    count=0\n",
    "    \n",
    "    while n>0:\n",
    "        n=n//10\n",
    "        count+=1\n",
    "    return count\n",
    "\n",
    "def isasn(n):\n",
    "    temp=n\n",
    "    if n<0:\n",
    "        n=n*-1\n",
    "    pow = countdig(n)\n",
    "    asn=0\n",
    "    while n>0:\n",
    "        #base = asn+(base ** pow)\n",
    "        #n = n//10\n",
    "        base = n%10\n",
    "        asn=(base**pow)+asn\n",
    "        n=n//10\n",
    "        \n",
    "    if (temp<0):\n",
    "        asn=asn*-1\n",
    "    if temp==asn:\n",
    "        return True\n",
    "    else:\n",
    "        return False\n",
    "n=int(input(\"enter the number\"))\n",
    "isasn(n)"
   ]
  },
  {
   "cell_type": "code",
   "execution_count": 9,
   "id": "3a6ac731-cd90-409a-a40b-c46f7397f725",
   "metadata": {},
   "outputs": [
    {
     "name": "stdin",
     "output_type": "stream",
     "text": [
      "Enter num:   -256\n"
     ]
    },
    {
     "name": "stdout",
     "output_type": "stream",
     "text": [
      "-652\n"
     ]
    }
   ],
   "source": [
    "n = int (input(\"Enter num:  \"))\n",
    "temp=n\n",
    "rev=0\n",
    "if n<0:\n",
    "    n=n*-1\n",
    "while n>0:\n",
    "    \n",
    "    rem=n%10\n",
    "    rev=(rev*10)+rem\n",
    "    n=n//10\n",
    "if temp<0:\n",
    "    rev=rev*-1\n",
    "\n",
    "print(rev)\n",
    "    "
   ]
  },
  {
   "cell_type": "code",
   "execution_count": 41,
   "id": "6e6b871a-2c7a-4f44-9f76-a381d0810ca3",
   "metadata": {},
   "outputs": [
    {
     "name": "stdin",
     "output_type": "stream",
     "text": [
      "Enter num:   141\n"
     ]
    },
    {
     "name": "stdout",
     "output_type": "stream",
     "text": [
      "141\n"
     ]
    }
   ],
   "source": [
    "n = int (input(\"Enter num:  \"))\n",
    "def reverse(n):\n",
    "    temp=n\n",
    "    rev=0\n",
    "    if n<0:\n",
    "        n=n*-1\n",
    "    while n>0:\n",
    "        \n",
    "        rem=n%10\n",
    "        rev=(rev*10)+rem\n",
    "        n=n//10\n",
    "    if temp<0:\n",
    "        rev=rev*-1\n",
    "    return rev\n",
    "rev =reverse(n)\n",
    "print(rev)"
   ]
  },
  {
   "cell_type": "code",
   "execution_count": 57,
   "id": "bdc4aa92-8ef2-411a-9e8f-071c45aeff0e",
   "metadata": {
    "scrolled": true
   },
   "outputs": [
    {
     "name": "stdin",
     "output_type": "stream",
     "text": [
      "Enter a number:   -141\n"
     ]
    },
    {
     "name": "stdout",
     "output_type": "stream",
     "text": [
      "It is True\n"
     ]
    }
   ],
   "source": [
    "n=int(input(\"Enter a number:  \"))\n",
    "def isPalindrome(n):\n",
    "    temp=n\n",
    "    rev=0\n",
    "    if n<0:\n",
    "        n=n*-1\n",
    "    while n>0:\n",
    "        rem=n%10\n",
    "        rev=(rev*10)+rem\n",
    "        n=n//10\n",
    "    if temp<0:\n",
    "        rev=rev*-1\n",
    "    return temp == rev\n",
    "temp = isPalindrome(n)\n",
    "if temp == rev:\n",
    "    print(\"It is True\") \n",
    "else:\n",
    "    print(\"It is False\")"
   ]
  },
  {
   "cell_type": "code",
   "execution_count": 11,
   "id": "eff87608-8f5f-49ab-9c5f-894b96bd5b01",
   "metadata": {},
   "outputs": [
    {
     "name": "stdin",
     "output_type": "stream",
     "text": [
      "Enter the number:   15\n"
     ]
    },
    {
     "name": "stdout",
     "output_type": "stream",
     "text": [
      "1\n",
      "2\n",
      "3\n",
      "4\n",
      "5\n",
      "6\n",
      "7\n",
      "8\n",
      "9\n",
      "11\n",
      "22\n",
      "33\n",
      "44\n",
      "55\n",
      "66\n"
     ]
    }
   ],
   "source": [
    "def isPalindrome(n):\n",
    "    temp=n\n",
    "    rev=0\n",
    "    if n<0:\n",
    "        n=n*-1\n",
    "    while n>0:\n",
    "        rem=n%10\n",
    "        rev=(rev*10)+rem\n",
    "        n=n//10\n",
    "    if temp<0:\n",
    "        rev=rev*-1\n",
    "    return temp==rev\n",
    "    \n",
    "n = int(input(\"Enter the number:  \"))\n",
    "count = 0\n",
    "i=1\n",
    "while count<n:\n",
    "    flag = isPalindrome(i)      \n",
    "    if flag:\n",
    "        print(i)\n",
    "        count+=1\n",
    "    i+=1\n",
    "    "
   ]
  },
  {
   "cell_type": "code",
   "execution_count": 19,
   "id": "ce3e3486-b43d-4a62-ba0a-0a728b5cc9b7",
   "metadata": {},
   "outputs": [
    {
     "name": "stdin",
     "output_type": "stream",
     "text": [
      "enter a number1:   12\n",
      "enter a number2:   16\n"
     ]
    },
    {
     "name": "stdout",
     "output_type": "stream",
     "text": [
      "The hcf of12and 16 is : 4\n"
     ]
    }
   ],
   "source": [
    "#WAP to display GCD or HCF of the given two numbers\n",
    "n1=int(input(\"enter a number1:  \"))\n",
    "n2=int(input(\"enter a number2:  \"))\n",
    "if n1>n2:\n",
    "    #swap\n",
    "    n1,n2=n2,n1\n",
    "hcf=1\n",
    "for i in range (1,n1+1):\n",
    "    if n1%i==0 and n2%i==0:\n",
    "        hcf=i\n",
    "print(f\"The hcf of {n1} and {n2} is : {hcf}\")\n",
    "        \n",
    "    "
   ]
  },
  {
   "cell_type": "code",
   "execution_count": 33,
   "id": "54ce0d70-f3c8-46fa-892c-9664bbbde7e0",
   "metadata": {},
   "outputs": [
    {
     "name": "stdin",
     "output_type": "stream",
     "text": [
      "enter a number1:   12\n",
      "enter a number2:   11\n"
     ]
    },
    {
     "name": "stdout",
     "output_type": "stream",
     "text": [
      "1\n"
     ]
    }
   ],
   "source": [
    "#using functions\n",
    "def findgcd(n1,n2):\n",
    "    if n1>n2:\n",
    "    #swap\n",
    "        n1,n2=n2,n1\n",
    "    hcf=1\n",
    "    for i in range (1,n1+1):\n",
    "        if n1%i==0 and n2%i==0:\n",
    "            hcf=i\n",
    "    return hcf==1\n",
    "n1=int(input(\"enter a number1:  \"))\n",
    "n2=int(input(\"enter a number2:  \"))\n",
    "res = findgcd(n1,n2)     \n",
    "print(res)"
   ]
  },
  {
   "cell_type": "code",
   "execution_count": 56,
   "id": "b1270613-fc4a-4095-9b06-e4e6d674af36",
   "metadata": {},
   "outputs": [
    {
     "name": "stdin",
     "output_type": "stream",
     "text": [
      "enter a number1:   33\n",
      "enter a number2:   47\n"
     ]
    },
    {
     "name": "stdout",
     "output_type": "stream",
     "text": [
      "given number is coprime=True\n"
     ]
    }
   ],
   "source": [
    "#WAP to check weather the given two numbers are co-prime numbers\n",
    "def coprime(n1,n2):\n",
    "    if n1>n2:\n",
    "    #swap\n",
    "        n1,n2=n2,n1\n",
    "    hcf=1\n",
    "    for i in range (1,n1+1):\n",
    "        if n1%i==0 and n2%i==0:\n",
    "            hcf=i\n",
    "    return hcf==1\n",
    "n1=int(input(\"enter a number1:  \"))\n",
    "n2=int(input(\"enter a number2:  \"))\n",
    "flag = coprime(n1,n2) \n",
    "\n",
    "if flag:\n",
    "    print(f\"given number is coprime={flag}\")\n",
    "else:\n",
    "    print(\"given number is not coprime\") "
   ]
  },
  {
   "cell_type": "code",
   "execution_count": 17,
   "id": "f1e32b30-acd7-4a3b-b008-d026614cb563",
   "metadata": {},
   "outputs": [
    {
     "name": "stdin",
     "output_type": "stream",
     "text": [
      "enter the number:   6\n"
     ]
    },
    {
     "name": "stdout",
     "output_type": "stream",
     "text": [
      "0\n",
      "1\n",
      "1\n",
      "2\n",
      "3\n",
      "5\n",
      "8\n"
     ]
    }
   ],
   "source": [
    "#WAP to print Fiboncci serices according to the privided input         \n",
    "pos=int(input(\"enter the number:  \"))\n",
    "n1=0\n",
    "n2=1\n",
    "while pos>=0:\n",
    "    print(n1)\n",
    "    n3=n1+n2\n",
    "    n1=n2\n",
    "    n2=n3\n",
    "    pos-=1\n",
    "    \n",
    " \n",
    "\n",
    "    "
   ]
  },
  {
   "cell_type": "code",
   "execution_count": 1,
   "id": "111c0faa-52d5-4321-96ec-e6071d2975ee",
   "metadata": {},
   "outputs": [
    {
     "name": "stdin",
     "output_type": "stream",
     "text": [
      "Enter a num:   5\n"
     ]
    },
    {
     "name": "stdout",
     "output_type": "stream",
     "text": [
      "0\n",
      "1\n",
      "1\n",
      "2\n",
      "3\n"
     ]
    }
   ],
   "source": [
    "def printfibo(pos):\n",
    "    n1,n2=0,1\n",
    "    while pos>0:\n",
    "        print(n1)\n",
    "        n3=n1+n2\n",
    "        n1=n2\n",
    "        n2=n3\n",
    "        pos-=1\n",
    "\n",
    "n= int(input(\"Enter a num:  \"))\n",
    "printfibo(n)"
   ]
  },
  {
   "cell_type": "code",
   "execution_count": 21,
   "id": "04692970-88be-4db4-a904-5ba047aa9c56",
   "metadata": {},
   "outputs": [
    {
     "name": "stdin",
     "output_type": "stream",
     "text": [
      "enter the number:   5\n"
     ]
    },
    {
     "name": "stdout",
     "output_type": "stream",
     "text": [
      "0\n",
      "1\n",
      "1\n",
      "2\n",
      "3\n"
     ]
    }
   ],
   "source": [
    "pos=int(input(\"enter the number:  \"))\n",
    "n1=0\n",
    "n2=1\n",
    "for pos in range(0,pos):\n",
    "    print(n1)\n",
    "    n3=n1+n2\n",
    "    n1=n2\n",
    "    n2=n3\n",
    "    pos-=1"
   ]
  },
  {
   "cell_type": "code",
   "execution_count": 9,
   "id": "8b95aa59-6246-4a74-a0b9-4dea26a69bf6",
   "metadata": {},
   "outputs": [
    {
     "name": "stdout",
     "output_type": "stream",
     "text": [
      "1\n",
      "2\n",
      "3\n",
      "4\n"
     ]
    }
   ],
   "source": [
    "#scenario based \n",
    "#WAP to print num from 1 to 4 with out loop, no code redundancy\n",
    "def dispnum1(n):\n",
    "    print(n)\n",
    "    dispnum2(n+1)\n",
    "    return\n",
    "def dispnum2(n):\n",
    "    print(n)\n",
    "    dispnum3(n+1)\n",
    "    return\n",
    "def dispnum3(n):\n",
    "    print(n)\n",
    "    dispnum4(n+1)\n",
    "    return\n",
    "def dispnum4(n):\n",
    "    print(n)\n",
    "    return\n",
    "dispnum1(1)"
   ]
  },
  {
   "cell_type": "code",
   "execution_count": 15,
   "id": "f433a569-ae4f-480b-afce-1de9bf9751f8",
   "metadata": {},
   "outputs": [
    {
     "name": "stdout",
     "output_type": "stream",
     "text": [
      "1\n",
      "2\n",
      "3\n",
      "4\n"
     ]
    }
   ],
   "source": [
    "def dispnum(n):\n",
    "    if n>4:\n",
    "        return\n",
    "    print(n)\n",
    "    dispnum(n-1)\n",
    "    return\n",
    "dispnum(1)"
   ]
  },
  {
   "cell_type": "code",
   "execution_count": 19,
   "id": "82d1ea85-de68-4955-81fc-972400abe01c",
   "metadata": {},
   "outputs": [
    {
     "name": "stdin",
     "output_type": "stream",
     "text": [
      "Enter the number :   4\n"
     ]
    },
    {
     "name": "stdout",
     "output_type": "stream",
     "text": [
      "1\n",
      "2\n",
      "3\n",
      "4\n"
     ]
    }
   ],
   "source": [
    "def printnum(n):\n",
    "    if n<=0:\n",
    "        return\n",
    "\n",
    "    printnum(n-1)\n",
    "    print(n)\n",
    "        \n",
    "n=int(input(\"Enter the number :  \"))\n",
    "printnum(n)\n",
    "    "
   ]
  },
  {
   "cell_type": "code",
   "execution_count": 11,
   "id": "6bcea32b-2d22-42f6-8f1c-6cf0dcbdefb3",
   "metadata": {},
   "outputs": [
    {
     "name": "stdin",
     "output_type": "stream",
     "text": [
      "Enter a number: 74586\n"
     ]
    },
    {
     "name": "stdout",
     "output_type": "stream",
     "text": [
      "5\n"
     ]
    }
   ],
   "source": [
    "def countdig(n,count):\n",
    "    if n<=0:\n",
    "        return count\n",
    "    #n=n//10\n",
    "    #count=count+1\n",
    "    return countdig((n//10),(count+1))\n",
    "n=int(input(\"Enter a number:\"))\n",
    "res=countdig(n,0)\n",
    "print(res)"
   ]
  },
  {
   "cell_type": "code",
   "execution_count": 33,
   "id": "9dfd1edd-047e-49ff-bd56-f3f1d2be74dc",
   "metadata": {},
   "outputs": [
    {
     "name": "stdin",
     "output_type": "stream",
     "text": [
      "Enter the num:  153\n"
     ]
    },
    {
     "name": "stdout",
     "output_type": "stream",
     "text": [
      "The given number is ASN\n"
     ]
    }
   ],
   "source": [
    "def countdig(n,count):\n",
    "    if n<=0:\n",
    "        return count\n",
    "    #n=n//10\n",
    "    #count=count+1\n",
    "    return countdig((n//10),(count+1))\n",
    "def asnnum(asn,n,pow,temp):\n",
    "    if n<=0:\n",
    "        return asn==temp\n",
    "    base=n%10\n",
    "    asn = asn+(base**pow)\n",
    "    n=n//10\n",
    "    return asnnum(asn,n,pow,temp)\n",
    "    \n",
    "n=int(input(\"Enter the num: \"))\n",
    "pow=countdig(n,0)\n",
    "ASN=asnnum(0,n,pow,n)\n",
    "if ASN:\n",
    "    print(\"The given number is ASN\")\n",
    "else:\n",
    "    print(\"The given number not ASN\")"
   ]
  },
  {
   "cell_type": "code",
   "execution_count": 3,
   "id": "be91f93c-95a1-487c-8545-ad4a5d15a655",
   "metadata": {},
   "outputs": [
    {
     "name": "stdin",
     "output_type": "stream",
     "text": [
      "Enter the number 2385\n"
     ]
    },
    {
     "name": "stdout",
     "output_type": "stream",
     "text": [
      "5832\n"
     ]
    }
   ],
   "source": [
    "def reverse(n,rev):\n",
    "    if n<=0:\n",
    "        return rev\n",
    "    rem = n%10\n",
    "    rev=(rev*10)+rem\n",
    "    n=n//10\n",
    "    return reverse(n,rev)\n",
    "\n",
    "n=int(input(\"Enter the number\"))\n",
    "\n",
    "flag=reverse(n,0)\n",
    "print(flag)"
   ]
  },
  {
   "cell_type": "code",
   "execution_count": 42,
   "id": "2cc403d4-1716-41b6-a087-7d9a41525e03",
   "metadata": {},
   "outputs": [
    {
     "name": "stdin",
     "output_type": "stream",
     "text": [
      "Enter the number 1214\n"
     ]
    },
    {
     "name": "stdout",
     "output_type": "stream",
     "text": [
      "its not a Palindrome\n"
     ]
    }
   ],
   "source": [
    "def ispalindrome(n,rev,temp):\n",
    "    if n<=0:\n",
    "        return rev==temp\n",
    "    rem = n%10\n",
    "    rev=(rev*10)+rem\n",
    "    n=n//10\n",
    "    return ispalindrome(n,rev,temp)\n",
    "\n",
    "n=int(input(\"Enter the number\"))\n",
    "flag=ispalindrome(n,0,n)\n",
    "if flag:\n",
    "    print(\"It is Palindrome\")\n",
    "else:\n",
    "    print(\"its not a Palindrome\")"
   ]
  },
  {
   "cell_type": "code",
   "execution_count": 74,
   "id": "4bb0cb45-b8b7-49c1-aead-a0b774e1e209",
   "metadata": {},
   "outputs": [
    {
     "name": "stdin",
     "output_type": "stream",
     "text": [
      "enter the number 25\n"
     ]
    },
    {
     "name": "stdout",
     "output_type": "stream",
     "text": [
      "1\n",
      "5\n"
     ]
    }
   ],
   "source": [
    "def factorial(n,i,count):\n",
    "    if i*i>n:\n",
    "        return count ==2\n",
    "    if n%i==0:\n",
    "        print(i)\n",
    "        #val\n",
    "        if i!=(n//i):\n",
    "            count+=1\n",
    "    \n",
    "    \n",
    "    return factorial(n,i+1,count)\n",
    "n=int(input(\"enter the number\"))\n",
    "flag=factorial(n,1,0)\n"
   ]
  },
  {
   "cell_type": "code",
   "execution_count": 12,
   "id": "77455bda-0697-43e4-927a-eec4e71871f6",
   "metadata": {},
   "outputs": [
    {
     "name": "stdin",
     "output_type": "stream",
     "text": [
      "Enter first number: 20\n",
      "Enter second number: 8\n"
     ]
    },
    {
     "name": "stdout",
     "output_type": "stream",
     "text": [
      "4\n"
     ]
    }
   ],
   "source": [
    "def findgcd(n1,n2,i,gcd):\n",
    "       if i>n1:\n",
    "           return gcd\n",
    "       if n1%i == 0 and n2%i == 0:\n",
    "           gcd = i\n",
    "       return findgcd(n1,n2,(i+1),gcd)\n",
    "n1=int(input(\"Enter first number:\"))\n",
    "n2=int(input(\"Enter second number:\"))\n",
    "if n1>n2:\n",
    "    n1,n2=n2,n1\n",
    "res=findgcd(n1,n2,1,1)\n",
    "print(res)"
   ]
  },
  {
   "cell_type": "code",
   "execution_count": 20,
   "id": "26a01ce9-978b-416d-b27a-2edfb91983d0",
   "metadata": {},
   "outputs": [
    {
     "name": "stdin",
     "output_type": "stream",
     "text": [
      "Enter first number: 5\n",
      "Enter second number: 6\n"
     ]
    },
    {
     "name": "stdout",
     "output_type": "stream",
     "text": [
      "1\n"
     ]
    }
   ],
   "source": [
    "#eucliden's Algo\n",
    "def findgcd(n1,n2):\n",
    "    if n1 == 0:\n",
    "        return n2\n",
    "    if n1<n2:\n",
    "        n1,n2=n2,n1\n",
    "    return findgcd((n1-n2),n2)\n",
    "n1=int(input(\"Enter first number:\"))\n",
    "n2=int(input(\"Enter second number:\"))\n",
    "res=findgcd(n1,n2)\n",
    "print(res)"
   ]
  },
  {
   "cell_type": "code",
   "execution_count": 46,
   "id": "fafb82ae-8e1c-4fc1-bda3-c0f2fdbe7b27",
   "metadata": {},
   "outputs": [
    {
     "name": "stdin",
     "output_type": "stream",
     "text": [
      "Enter first number: 1\n",
      "Enter second number: 11\n"
     ]
    },
    {
     "name": "stdout",
     "output_type": "stream",
     "text": [
      "co-prime number\n"
     ]
    }
   ],
   "source": [
    "#co-prime numbers\n",
    "def findgcd(n1,n2):\n",
    "    if n1 == 0:\n",
    "        return n2==1\n",
    "    if n1<n2:\n",
    "        n1,n2=n2,n1\n",
    "    return findgcd((n1%n2),n2)\n",
    "n1=int(input(\"Enter first number:\"))\n",
    "n2=int(input(\"Enter second number:\"))\n",
    "res=findgcd(n1,n2)\n",
    "if res:\n",
    "    print(\"co-prime number\")\n",
    "else:\n",
    "    print(\"not a co-prime number\")\n"
   ]
  },
  {
   "cell_type": "code",
   "execution_count": 74,
   "id": "c9755bdc-1503-474b-8555-c506b59747f6",
   "metadata": {},
   "outputs": [
    {
     "name": "stdin",
     "output_type": "stream",
     "text": [
      "enter the number 268\n"
     ]
    },
    {
     "name": "stdout",
     "output_type": "stream",
     "text": [
      "(26, 8)\n"
     ]
    }
   ],
   "source": [
    "def factor(n,sum):\n",
    "    if n<=0:\n",
    "        return sum\n",
    "\n",
    "    rem=n%10\n",
    "    sum=sum+rem\n",
    "    n=n//10\n",
    "    return(n,sum)\n",
    "n=int(input(\"enter the number\"))\n",
    "R=factor(n,0)\n",
    "print(R)\n",
    "    "
   ]
  },
  {
   "cell_type": "code",
   "execution_count": 76,
   "id": "a24e43b7-a43c-44f1-8e20-1323797f9d35",
   "metadata": {},
   "outputs": [
    {
     "name": "stdin",
     "output_type": "stream",
     "text": [
      "enter the position num:  8\n"
     ]
    },
    {
     "name": "stdout",
     "output_type": "stream",
     "text": [
      "0\n",
      "1\n",
      "1\n",
      "2\n",
      "3\n",
      "5\n",
      "8\n",
      "13\n"
     ]
    }
   ],
   "source": [
    "def fibo(pos,n1,n2):\n",
    "    if pos<=0:\n",
    "        return\n",
    "    print(n1)\n",
    "    fibo((pos-1),n2,(n1+n2))\n",
    "\n",
    "n=int(input(\"enter the position num: \"))\n",
    "fibo(n,0,1)\n"
   ]
  },
  {
   "cell_type": "code",
   "execution_count": 16,
   "id": "98a8c751-ddb6-4819-821a-22ce295a8531",
   "metadata": {},
   "outputs": [
    {
     "name": "stdin",
     "output_type": "stream",
     "text": [
      "enter the number:  8\n"
     ]
    },
    {
     "name": "stdout",
     "output_type": "stream",
     "text": [
      "21\n"
     ]
    }
   ],
   "source": [
    "def fibo(pos):\n",
    "    if pos==0 or pos == 1:\n",
    "        return pos\n",
    "    return fibo(pos-2)+fibo(pos-1)\n",
    "\n",
    "n=int(input(\"enter the number: \"))\n",
    "res=fibo(n)\n",
    "print(res)\n"
   ]
  },
  {
   "cell_type": "code",
   "execution_count": 8,
   "id": "f5d78e66-5098-4578-8978-f17eaebd08d8",
   "metadata": {},
   "outputs": [
    {
     "name": "stdin",
     "output_type": "stream",
     "text": [
      " 10 20 30\n"
     ]
    },
    {
     "name": "stdout",
     "output_type": "stream",
     "text": [
      "10\n",
      "20\n",
      "30\n"
     ]
    }
   ],
   "source": [
    "n1,n2,n3=map(int,(input().split()))\n",
    "print(n1)\n",
    "print(n2)\n",
    "print(n3)"
   ]
  },
  {
   "cell_type": "code",
   "execution_count": 7,
   "id": "3a0218b6-49c6-49b3-9a6f-de9ae73ad244",
   "metadata": {},
   "outputs": [
    {
     "name": "stdin",
     "output_type": "stream",
     "text": [
      "Enter a number 1\n",
      "Enter a number 2\n",
      "Enter a number 3\n",
      "Enter a number 44\n",
      "Enter a number 3\n",
      "Enter a number 2\n",
      "Enter a number \n"
     ]
    },
    {
     "name": "stdout",
     "output_type": "stream",
     "text": [
      "[1, 2, 3, 44, 3, 2]\n"
     ]
    }
   ],
   "source": [
    "#Program to create a customized list\n",
    "def createlist():\n",
    "    l1=[]\n",
    "    while True:\n",
    "        try:\n",
    "            n=int(input(\"Enter a number\"))\n",
    "            l1.append(n)\n",
    "        except Exception as e:\n",
    "            return l1\n",
    "res=createlist()\n",
    "print(res)\n",
    "          "
   ]
  },
  {
   "cell_type": "code",
   "execution_count": 32,
   "id": "723494a4-078d-4632-8b2e-2dd01ac34f18",
   "metadata": {},
   "outputs": [
    {
     "ename": "KeyboardInterrupt",
     "evalue": "Interrupted by user",
     "output_type": "error",
     "traceback": [
      "\u001b[1;31m---------------------------------------------------------------------------\u001b[0m",
      "\u001b[1;31mKeyboardInterrupt\u001b[0m                         Traceback (most recent call last)",
      "Cell \u001b[1;32mIn[32], line 9\u001b[0m\n\u001b[0;32m      7\u001b[0m                \u001b[38;5;28;01mreturn\u001b[39;00m char\n\u001b[0;32m      8\u001b[0m            char\u001b[38;5;241m.\u001b[39mappend(n)\n\u001b[1;32m----> 9\u001b[0m res \u001b[38;5;241m=\u001b[39m charlist()\n\u001b[0;32m     10\u001b[0m \u001b[38;5;28mprint\u001b[39m(res)\n",
      "Cell \u001b[1;32mIn[32], line 5\u001b[0m, in \u001b[0;36mcharlist\u001b[1;34m()\u001b[0m\n\u001b[0;32m      2\u001b[0m char\u001b[38;5;241m=\u001b[39m[]\n\u001b[0;32m      3\u001b[0m \u001b[38;5;28;01mwhile\u001b[39;00m \u001b[38;5;28;01mTrue\u001b[39;00m:\n\u001b[1;32m----> 5\u001b[0m        n\u001b[38;5;241m=\u001b[39m\u001b[38;5;28minput\u001b[39m(\u001b[38;5;124m\"\u001b[39m\u001b[38;5;124mEnter a character\u001b[39m\u001b[38;5;124m\"\u001b[39m)\n\u001b[0;32m      6\u001b[0m        \u001b[38;5;28;01mif\u001b[39;00m n\u001b[38;5;241m==\u001b[39m\u001b[38;5;124m\"\u001b[39m\u001b[38;5;124m\"\u001b[39m:\n\u001b[0;32m      7\u001b[0m            \u001b[38;5;28;01mreturn\u001b[39;00m char\n",
      "File \u001b[1;32mC:\\ProgramData\\anaconda3\\Lib\\site-packages\\ipykernel\\kernelbase.py:1262\u001b[0m, in \u001b[0;36mKernel.raw_input\u001b[1;34m(self, prompt)\u001b[0m\n\u001b[0;32m   1260\u001b[0m     msg \u001b[38;5;241m=\u001b[39m \u001b[38;5;124m\"\u001b[39m\u001b[38;5;124mraw_input was called, but this frontend does not support input requests.\u001b[39m\u001b[38;5;124m\"\u001b[39m\n\u001b[0;32m   1261\u001b[0m     \u001b[38;5;28;01mraise\u001b[39;00m StdinNotImplementedError(msg)\n\u001b[1;32m-> 1262\u001b[0m \u001b[38;5;28;01mreturn\u001b[39;00m \u001b[38;5;28mself\u001b[39m\u001b[38;5;241m.\u001b[39m_input_request(\n\u001b[0;32m   1263\u001b[0m     \u001b[38;5;28mstr\u001b[39m(prompt),\n\u001b[0;32m   1264\u001b[0m     \u001b[38;5;28mself\u001b[39m\u001b[38;5;241m.\u001b[39m_parent_ident[\u001b[38;5;124m\"\u001b[39m\u001b[38;5;124mshell\u001b[39m\u001b[38;5;124m\"\u001b[39m],\n\u001b[0;32m   1265\u001b[0m     \u001b[38;5;28mself\u001b[39m\u001b[38;5;241m.\u001b[39mget_parent(\u001b[38;5;124m\"\u001b[39m\u001b[38;5;124mshell\u001b[39m\u001b[38;5;124m\"\u001b[39m),\n\u001b[0;32m   1266\u001b[0m     password\u001b[38;5;241m=\u001b[39m\u001b[38;5;28;01mFalse\u001b[39;00m,\n\u001b[0;32m   1267\u001b[0m )\n",
      "File \u001b[1;32mC:\\ProgramData\\anaconda3\\Lib\\site-packages\\ipykernel\\kernelbase.py:1305\u001b[0m, in \u001b[0;36mKernel._input_request\u001b[1;34m(self, prompt, ident, parent, password)\u001b[0m\n\u001b[0;32m   1302\u001b[0m \u001b[38;5;28;01mexcept\u001b[39;00m \u001b[38;5;167;01mKeyboardInterrupt\u001b[39;00m:\n\u001b[0;32m   1303\u001b[0m     \u001b[38;5;66;03m# re-raise KeyboardInterrupt, to truncate traceback\u001b[39;00m\n\u001b[0;32m   1304\u001b[0m     msg \u001b[38;5;241m=\u001b[39m \u001b[38;5;124m\"\u001b[39m\u001b[38;5;124mInterrupted by user\u001b[39m\u001b[38;5;124m\"\u001b[39m\n\u001b[1;32m-> 1305\u001b[0m     \u001b[38;5;28;01mraise\u001b[39;00m \u001b[38;5;167;01mKeyboardInterrupt\u001b[39;00m(msg) \u001b[38;5;28;01mfrom\u001b[39;00m \u001b[38;5;28;01mNone\u001b[39;00m\n\u001b[0;32m   1306\u001b[0m \u001b[38;5;28;01mexcept\u001b[39;00m \u001b[38;5;167;01mException\u001b[39;00m:\n\u001b[0;32m   1307\u001b[0m     \u001b[38;5;28mself\u001b[39m\u001b[38;5;241m.\u001b[39mlog\u001b[38;5;241m.\u001b[39mwarning(\u001b[38;5;124m\"\u001b[39m\u001b[38;5;124mInvalid Message:\u001b[39m\u001b[38;5;124m\"\u001b[39m, exc_info\u001b[38;5;241m=\u001b[39m\u001b[38;5;28;01mTrue\u001b[39;00m)\n",
      "\u001b[1;31mKeyboardInterrupt\u001b[0m: Interrupted by user"
     ]
    }
   ],
   "source": [
    "def charlist():\n",
    "    char=[]\n",
    "    while True:\n",
    "       \n",
    "           n=input(\"Enter a character\")\n",
    "           if n==\"\":\n",
    "               return char\n",
    "           char.append(n)\n",
    "res = charlist()\n",
    "print(res)"
   ]
  },
  {
   "cell_type": "code",
   "execution_count": 6,
   "id": "b3abf20d-8718-4242-9851-07269216848d",
   "metadata": {},
   "outputs": [
    {
     "name": "stdin",
     "output_type": "stream",
     "text": [
      "Enter a number 1\n",
      "Enter a number 5\n",
      "Enter a number 4\n",
      "Enter a number 7\n",
      "Enter a number 6\n",
      "Enter a number 8\n",
      "Enter a number 4\n",
      "Enter a number \n",
      "Enter the number 7\n"
     ]
    },
    {
     "name": "stdout",
     "output_type": "stream",
     "text": [
      "Elements found at index: 3\n",
      "True\n"
     ]
    }
   ],
   "source": [
    "#program implementation for lioner search\n",
    "def createlist():\n",
    "    l1=[]\n",
    "    while True:\n",
    "        try:\n",
    "            n=int(input(\"Enter a number\"))\n",
    "            l1.append(n)\n",
    "        except Exception as e:\n",
    "            return l1\n",
    "arr=createlist()\n",
    "target=int(input(\"Enter the number\"))\n",
    "flag,index=False,-1\n",
    "for i in range (0,len(arr)):\n",
    "    if target == arr[i]:\n",
    "        flag=True\n",
    "        index=i\n",
    "        break\n",
    "if flag:\n",
    "    print(\"Elements found at index:\", index)\n",
    "else:\n",
    "    print(\"Elements not found\")\n",
    "\n",
    "\n",
    "\n",
    "\n",
    "\n",
    "print(flag)"
   ]
  },
  {
   "cell_type": "code",
   "execution_count": 40,
   "id": "e5e1cdf5-3292-4ee3-95fd-983f12fc06f8",
   "metadata": {},
   "outputs": [
    {
     "name": "stdin",
     "output_type": "stream",
     "text": [
      "Enter a number 5\n",
      "Enter a number 6\n",
      "Enter a number 7\n",
      "Enter a number 5\n",
      "Enter a number \n"
     ]
    },
    {
     "name": "stdout",
     "output_type": "stream",
     "text": [
      "(7, 2)\n"
     ]
    }
   ],
   "source": [
    "def createlist():\n",
    "    l1=[]\n",
    "    while True:\n",
    "        try:\n",
    "            n=int(input(\"Enter a number\"))\n",
    "            l1.append(n)\n",
    "        except Exception as e:\n",
    "            return l1\n",
    "def findmax():\n",
    "    arr = createlist()\n",
    "    max=-2**31\n",
    "    maxind =-1\n",
    "    for i in range(0,len(arr)):\n",
    "        if max<arr[i]:\n",
    "            max = arr[i]\n",
    "            maxind=i\n",
    "    return max,maxind\n",
    "res=findmax()\n",
    "print(res)"
   ]
  },
  {
   "cell_type": "code",
   "execution_count": 46,
   "id": "f475fd24-fa87-4f68-82fb-0a215d3bf5b5",
   "metadata": {},
   "outputs": [
    {
     "name": "stdin",
     "output_type": "stream",
     "text": [
      "Enter a number 3\n",
      "Enter a number 46\n",
      "Enter a number 7\n",
      "Enter a number 5\n",
      "Enter a number 4\n",
      "Enter a number 3\n",
      "Enter a number 6\n",
      "Enter a number \n",
      "enter a number 3\n"
     ]
    },
    {
     "name": "stdout",
     "output_type": "stream",
     "text": [
      "(True, 0)\n"
     ]
    }
   ],
   "source": [
    "def createlist():\n",
    "    l1=[]\n",
    "    while True:\n",
    "        try:\n",
    "            n=int(input(\"Enter a number\"))\n",
    "            l1.append(n)\n",
    "        except Exception as e:\n",
    "            return l1\n",
    "def linersearch():\n",
    "    flag,index=False,-1\n",
    "    arr=createlist()\n",
    "    for i in range(len(arr)):\n",
    "        target=int(input(\"enter a number\"))\n",
    "        if target==arr[i]:\n",
    "            return True,i\n",
    "        return False,-1\n",
    "res = linersearch()\n",
    "print(res)"
   ]
  },
  {
   "cell_type": "code",
   "execution_count": 52,
   "id": "0cc69b05-b061-4f81-ac84-8eef0516c4f1",
   "metadata": {},
   "outputs": [
    {
     "name": "stdin",
     "output_type": "stream",
     "text": [
      "Enter a number 1\n",
      "Enter a number 2\n",
      "Enter a number 3\n",
      "Enter a number 4\n",
      "Enter a number 7\n",
      "Enter a number 5\n",
      "Enter a number 8\n",
      "Enter a number \n"
     ]
    },
    {
     "name": "stdout",
     "output_type": "stream",
     "text": [
      "8 6 2 0\n"
     ]
    }
   ],
   "source": [
    "def createlist():\n",
    "    l1=[]\n",
    "    while True:\n",
    "        try:\n",
    "            n=int(input(\"Enter a number\"))\n",
    "            l1.append(n)\n",
    "        except Exception as e:\n",
    "            return l1\n",
    "def findmax():\n",
    "    arr = createlist()\n",
    "    max=-2**31\n",
    "    maxind =-1\n",
    "    for i in range(0,len(arr)):\n",
    "        if max<arr[i]:\n",
    "            max = arr[i]\n",
    "            maxind=i\n",
    "    return max,maxind\n",
    "def findmin():\n",
    "    min,minind=2**31,-1\n",
    "    for j in range(len(arr)):\n",
    "        if min>arr[j]:\n",
    "            min=arr[j]\n",
    "            minind=j\n",
    "    return min,minind\n",
    "res,resind=findmax()\n",
    "res1,res1ind=findmin()\n",
    "print(res,resind,res1,res1ind)"
   ]
  },
  {
   "cell_type": "code",
   "execution_count": 60,
   "id": "2c5a5793-4630-4ef6-808d-133c7295f0e4",
   "metadata": {},
   "outputs": [
    {
     "name": "stdin",
     "output_type": "stream",
     "text": [
      "Enter a number 5\n",
      "Enter a number 4\n",
      "Enter a number 7\n",
      "Enter a number 3\n",
      "Enter a number 6\n",
      "Enter a number 4\n",
      "Enter a number \n"
     ]
    },
    {
     "name": "stdout",
     "output_type": "stream",
     "text": [
      "[5, 4, 7, 3, 6, 4]\n"
     ]
    }
   ],
   "source": [
    "def createlist():\n",
    "    l1=[]\n",
    "    while True:\n",
    "        try:\n",
    "            n=int(input(\"Enter a number\"))\n",
    "            l1.append(n)\n",
    "        except Exception as e:\n",
    "            return l1\n",
    "def findsecmax(arr):\n",
    "    max=-2**31\n",
    "    maxind=-1\n",
    "    secmaxind=-1\n",
    "    for i in range(len(arr)):\n",
    "        if max<arr[i]:\n",
    "            secmax=max\n",
    "            secmaxind=maxind\n",
    "            max=arr[i]\n",
    "            maxind=i\n",
    "        elif max!=arr[i] and secmax<arr[i]:\n",
    "            secmax = arr[i]\n",
    "            secmaxind=i\n",
    "        return[max,maxind,secmax,secmaxind]\n",
    "arr=createlist()\n",
    "res=findsecmax(arr)\n",
    "print(arr)"
   ]
  },
  {
   "cell_type": "code",
   "execution_count": 1,
   "id": "d148fa2e-5a68-41c6-b090-3ac525b70e6c",
   "metadata": {},
   "outputs": [
    {
     "name": "stdout",
     "output_type": "stream",
     "text": [
      "[1, 3, 5, 8, -2, 10, 3, 5]\n",
      "[10, 3, 5]\n"
     ]
    }
   ],
   "source": [
    "#write a program to merge the given 2 arrays one after the other\n",
    "arr1=[1,3,5,8,-2]\n",
    "arr2=[10,3,5]\n",
    "print(arr1)\n",
    "print(arr2)\n",
    "#Traverse throught arr2 and append each val to arr1\n",
    "for i in range(len(arr2)):\n",
    "    arr1.append(arr2[i])\n",
    "print(arr1)\n",
    "print(arr2)"
   ]
  },
  {
   "cell_type": "code",
   "execution_count": 5,
   "id": "2a9ab401-a10c-48ac-98d3-37ca9c19bfe1",
   "metadata": {},
   "outputs": [
    {
     "name": "stdout",
     "output_type": "stream",
     "text": [
      "[1, 3, 5, 8, -2]\n",
      "[10, 3, 5]\n",
      "[1, 3, 5, 8, -2, 10, 3, 5]\n",
      "[10, 3, 5]\n"
     ]
    }
   ],
   "source": [
    "arr1=[1,3,5,8,-2]\n",
    "arr2=[10,3,5]\n",
    "print(arr1)\n",
    "print(arr2)\n",
    "arr1.extend(arr2)\n",
    "print(arr1)\n",
    "print(arr2)"
   ]
  },
  {
   "cell_type": "code",
   "execution_count": 9,
   "id": "5983a2ee-f1cb-4844-afa4-d44cd0c03da0",
   "metadata": {},
   "outputs": [
    {
     "name": "stdout",
     "output_type": "stream",
     "text": [
      "[1, 3, 5, 8, -2]\n",
      "[10, 3, 5]\n",
      "[1, 3, 5, 8, -2]\n",
      "[10, 3, 5]\n",
      "[1, 3, 5, 8, -2, 10, 3, 5]\n"
     ]
    }
   ],
   "source": [
    "arr1=[1,3,5,8,-2]\n",
    "arr2=[10,3,5]\n",
    "print(arr1)\n",
    "print(arr2)\n",
    "arr3=arr1+arr2\n",
    "print(arr1)\n",
    "print(arr2)\n",
    "print(arr3)\n"
   ]
  },
  {
   "cell_type": "code",
   "execution_count": 17,
   "id": "93282b72-e9ca-4374-abb3-0ca8e5eec3dd",
   "metadata": {},
   "outputs": [
    {
     "name": "stdout",
     "output_type": "stream",
     "text": [
      "[1, 3, 5, 8, -2, 10, 3, 5]\n"
     ]
    }
   ],
   "source": [
    "arr1=[1,3,5,8,-2]\n",
    "arr2=[10,3,5]\n",
    "for i in range(0,len(arr2)):\n",
    "    arr1.insert(len(arr1),arr2[i])\n",
    "    \n",
    "print(arr1)\n",
    "#print(arr2)"
   ]
  },
  {
   "cell_type": "code",
   "execution_count": 27,
   "id": "5c7d8dcd-9940-4a92-bcc0-d28a3e7c61fd",
   "metadata": {},
   "outputs": [
    {
     "name": "stdin",
     "output_type": "stream",
     "text": [
      "Enter the num: 10\n",
      "Enter the num: 2\n"
     ]
    },
    {
     "ename": "TypeError",
     "evalue": "cannot unpack non-iterable int object",
     "output_type": "error",
     "traceback": [
      "\u001b[1;31m---------------------------------------------------------------------------\u001b[0m",
      "\u001b[1;31mTypeError\u001b[0m                                 Traceback (most recent call last)",
      "Cell \u001b[1;32mIn[27], line 38\u001b[0m\n\u001b[0;32m     36\u001b[0m arr1\u001b[38;5;241m=\u001b[39mcreatelist()\n\u001b[0;32m     37\u001b[0m arr2\u001b[38;5;241m=\u001b[39mcreatelist()\n\u001b[1;32m---> 38\u001b[0m res\u001b[38;5;241m=\u001b[39mmergeealternate(arr1,arr2)\n\u001b[0;32m     39\u001b[0m \u001b[38;5;28mprint\u001b[39m(\u001b[38;5;124m\"\u001b[39m\u001b[38;5;124mArray 1:\u001b[39m\u001b[38;5;124m\"\u001b[39m,arr1)\n\u001b[0;32m     40\u001b[0m \u001b[38;5;28mprint\u001b[39m(\u001b[38;5;124m\"\u001b[39m\u001b[38;5;124mArray 2:\u001b[39m\u001b[38;5;124m\"\u001b[39m,arr2)\n",
      "Cell \u001b[1;32mIn[27], line 13\u001b[0m, in \u001b[0;36mmergeealternate\u001b[1;34m(arr1, arr2)\u001b[0m\n\u001b[0;32m     11\u001b[0m \u001b[38;5;28;01mdef\u001b[39;00m \u001b[38;5;21mmergeealternate\u001b[39m(arr1,arr2):\n\u001b[0;32m     12\u001b[0m     res\u001b[38;5;241m=\u001b[39m[]\n\u001b[1;32m---> 13\u001b[0m     i,j\u001b[38;5;241m=\u001b[39m\u001b[38;5;241m0\u001b[39m\n\u001b[0;32m     14\u001b[0m     n1,n2\u001b[38;5;241m=\u001b[39m\u001b[38;5;28mlen\u001b[39m(arr1),\u001b[38;5;28mlen\u001b[39m(arr2)\n\u001b[0;32m     15\u001b[0m     n3\u001b[38;5;241m=\u001b[39mn1\u001b[38;5;241m+\u001b[39mn2\n",
      "\u001b[1;31mTypeError\u001b[0m: cannot unpack non-iterable int object"
     ]
    }
   ],
   "source": [
    "#WAP TO MERGE THE GIVEN TWO ARRAYS AT ALTERNATE INDEXS\n",
    "def createlist():\n",
    "    l1=[]\n",
    "    while True:\n",
    "        try:\n",
    "            n=int(input(\"Enter the num:\"))\n",
    "            l1.append(n)\n",
    "        except Exception as e:\n",
    "            return l1\n",
    "\n",
    "def mergeealternate(arr1,arr2):\n",
    "    res=[]\n",
    "    i,j=0\n",
    "    n1,n2=len(arr1),len(arr2)\n",
    "    n3=n1+n2\n",
    "    for k in range(0,n3):\n",
    "        if i<n1 and k%2==0:\n",
    "            res.append(arr1[i])\n",
    "            i+=1\n",
    "            #k+=1\n",
    "        elif j<n2 and k%2!=0:\n",
    "            res.append(arr2[j])\n",
    "            j+=1\n",
    "            #k+=1\n",
    "        else:\n",
    "            if i< n1:\n",
    "                res.append()\n",
    "            elif j<n2:\n",
    "                res.append(arr2[j])\n",
    "                j+=1\n",
    "            return res\n",
    "        \n",
    "\n",
    "\n",
    "\n",
    "arr1=createlist()\n",
    "arr2=createlist()\n",
    "res=mergeealternate(arr1,arr2)\n",
    "print(\"Array 1:\",arr1)\n",
    "print(\"Array 2:\",arr2)\n",
    "            "
   ]
  },
  {
   "cell_type": "code",
   "execution_count": 5,
   "id": "30077767-2e1c-4fd6-b172-a85d1b4c6595",
   "metadata": {},
   "outputs": [
    {
     "name": "stdout",
     "output_type": "stream",
     "text": [
      "{1: 3, 3: 1, 2: 2, 4: 1}\n",
      "Non Dup: [1, 3, 2, 4]\n",
      "Dup: [1, 2]\n",
      "Unique: [3, 4]\n"
     ]
    }
   ],
   "source": [
    "#dictionary\n",
    "arr=[1,3,1,2,2,1,4]\n",
    "dict={}\n",
    "for i in range(len(arr)):\n",
    "    if arr[i] in dict:\n",
    "        dict[arr[i]]=dict[arr[i]]+1\n",
    "    else:\n",
    "        dict[arr[i]]=1\n",
    "print(dict)\n",
    "\n",
    "nondup=[]\n",
    "dup=[]\n",
    "unique=[]\n",
    "for key,val in dict.items():\n",
    "    if val>=1:\n",
    "        nondup.append(key)\n",
    "    if val>1:\n",
    "        dup.append(key)\n",
    "    if val==1:\n",
    "        unique.append(key)\n",
    "print(\"Non Dup:\", nondup)\n",
    "print(\"Dup:\",dup)\n",
    "print(\"Unique:\",unique)"
   ]
  },
  {
   "cell_type": "code",
   "execution_count": 4,
   "id": "314a31c4-e2a8-448e-be7f-58d4487772b5",
   "metadata": {},
   "outputs": [
    {
     "name": "stdin",
     "output_type": "stream",
     "text": [
      "Enter a number 1\n",
      "Enter a number 2\n",
      "Enter a number 5\n",
      "Enter a number 4\n",
      "Enter a number 3\n",
      "Enter a number 6\n",
      "Enter a number 5\n",
      "Enter a number \n"
     ]
    },
    {
     "name": "stdout",
     "output_type": "stream",
     "text": [
      "Before sorting: [1, 2, 5, 4, 3, 6, 5]\n",
      "Affter asc sorting: [1, 2, 3, 4, 5, 5, 6]\n"
     ]
    }
   ],
   "source": [
    "def createlist():\n",
    "    l1=[]\n",
    "    while True:\n",
    "        try:\n",
    "            n=int(input(\"Enter a number\"))\n",
    "            l1.append(n)\n",
    "        except Exception as e:\n",
    "            return l1\n",
    "def bubblesort(arr):\n",
    "    #cycle\n",
    "    n=len(arr)\n",
    "    for i in range(0,n-1):\n",
    "        #comparison &swapping\n",
    "        for j in range(0,n-1-i):\n",
    "            if arr[j]>arr[j+1]:\n",
    "                #Swap\n",
    "                arr[j],arr[j+1]=arr[j+1],arr[j]\n",
    "        \n",
    "arr=createlist()\n",
    "print(\"Before sorting:\",arr)\n",
    "bubblesort(arr)\n",
    "print(\"Affter asc sorting:\",arr)"
   ]
  },
  {
   "cell_type": "code",
   "execution_count": 28,
   "id": "9b7f349f-2407-4595-b7dd-186da47d4f2e",
   "metadata": {},
   "outputs": [
    {
     "name": "stdin",
     "output_type": "stream",
     "text": [
      "Enter a number 1\n",
      "Enter a number 2\n",
      "Enter a number 3\n",
      "Enter a number 4\n",
      "Enter a number 5\n",
      "Enter a number \n"
     ]
    },
    {
     "name": "stdout",
     "output_type": "stream",
     "text": [
      "Before sorting: [1, 2, 3, 4, 5]\n",
      "Affter asc sorting: [5, 4, 3, 2, 1]\n"
     ]
    }
   ],
   "source": [
    "#Insertion sort\n",
    "def createlist():\n",
    "    l1=[]\n",
    "    while True:\n",
    "        try:\n",
    "            n=int(input(\"Enter a number\"))\n",
    "            l1.append(n)\n",
    "        except Exception as e:\n",
    "            return l1\n",
    "def insertionsort(arr):\n",
    "    n=len(arr)\n",
    "    for i in range(0,n-1):\n",
    "        for j in range((i+1),0,-1):\n",
    "            if arr[j-1]<arr[j]:\n",
    "                arr[j],arr[j-1]=arr[j-1],arr[j]\n",
    "arr=createlist()\n",
    "print(\"Before sorting:\",arr)\n",
    "insertionsort(arr)\n",
    "print(\"Affter asc sorting:\",arr)"
   ]
  },
  {
   "cell_type": "code",
   "execution_count": 40,
   "id": "c146770e-5674-4292-9a42-1f7cb057b880",
   "metadata": {},
   "outputs": [
    {
     "name": "stdin",
     "output_type": "stream",
     "text": [
      "Enter a number 1\n",
      "Enter a number 5\n",
      "Enter a number 4\n",
      "Enter a number 3\n",
      "Enter a number 2\n",
      "Enter a number \n"
     ]
    },
    {
     "name": "stdout",
     "output_type": "stream",
     "text": [
      "Before sorting: [1, 5, 4, 3, 2]\n",
      "Affter asc sorting: [1, 2, 3, 4, 5]\n"
     ]
    }
   ],
   "source": [
    "def createlist():\n",
    "    l1=[]\n",
    "    while True:\n",
    "        try:\n",
    "            n=int(input(\"Enter a number\"))\n",
    "            l1.append(n)\n",
    "        except Exception as e:\n",
    "            return l1\n",
    "def insertionsort(arr):\n",
    "    n=len(arr)\n",
    "    for i in range(0,n-1):\n",
    "        for j in range((i+1),0,-1):\n",
    "            if arr[j-1]>arr[j]:\n",
    "                arr[j],arr[j-1]=arr[j-1],arr[j]\n",
    "\n",
    "arr=createlist()\n",
    "print(\"Before sorting:\",arr)\n",
    "insertionsort(arr)\n",
    "print(\"Affter asc sorting:\",arr)"
   ]
  },
  {
   "cell_type": "code",
   "execution_count": 38,
   "id": "00d5b171-1c13-4dae-8c24-ae5ce852c94f",
   "metadata": {},
   "outputs": [
    {
     "name": "stdin",
     "output_type": "stream",
     "text": [
      "Enter a number 4\n",
      "Enter a number 5\n",
      "Enter a number 3\n",
      "Enter a number 2\n",
      "Enter a number 8\n",
      "Enter a number 1\n",
      "Enter a number 7\n",
      "Enter a number \n"
     ]
    },
    {
     "name": "stdout",
     "output_type": "stream",
     "text": [
      "Before sorting: [4, 5, 3, 2, 8, 1, 7]\n",
      "Affter asc sorting: [8, 7, 5, 4, 3, 2, 1]\n"
     ]
    }
   ],
   "source": [
    "def createlist():\n",
    "    l1=[]\n",
    "    while True:\n",
    "        try:\n",
    "            n=int(input(\"Enter a number\"))\n",
    "            l1.append(n)\n",
    "        except Exception as e:\n",
    "            return l1\n",
    "def insertionsort(arr):\n",
    "    n=len(arr)\n",
    "    for i in range(0,n-1):\n",
    "        for j in range((i+1),0,-1):\n",
    "            if arr[j-1]<arr[j]:\n",
    "                arr[j],arr[j-1]=arr[j-1],arr[j]\n",
    "def insertionsortdesc(arr):\n",
    "    n=len(arr)\n",
    "    for i in range(n-1):\n",
    "        for j in range((i+1),0,-1):\n",
    "            if arr[j-1]<arr[j]:\n",
    "                arr[j],arr[j-1]=arr[j-1],arr[j]\n",
    "            \n",
    "\n",
    "arr=createlist()\n",
    "print(\"Before sorting:\",arr)\n",
    "insertionsort(arr)\n",
    "insertionsortdesc(arr)\n",
    "print(\"Affter asc sorting:\",arr)"
   ]
  },
  {
   "cell_type": "code",
   "execution_count": 10,
   "id": "59eeeb18-05a2-4898-b722-567edbbc11b8",
   "metadata": {},
   "outputs": [
    {
     "name": "stdin",
     "output_type": "stream",
     "text": [
      "Enter a number 8\n",
      "Enter a number 6\n",
      "Enter a number 7\n",
      "Enter a number 4\n",
      "Enter a number 5\n",
      "Enter a number 3\n",
      "Enter a number 2\n",
      "Enter a number 9\n",
      "Enter a number \n",
      "Enter the target number to search: 9\n"
     ]
    },
    {
     "name": "stdout",
     "output_type": "stream",
     "text": [
      "Element found at index in ascending order: 7\n"
     ]
    }
   ],
   "source": [
    "def createListandTarget():\n",
    "    l1=[]\n",
    "    while True:\n",
    "        try:\n",
    "            num=int(input(\"Enter a number\"))\n",
    "            l1.append(num)\n",
    "        except Exception as e:\n",
    "            target=int(input(\"Enter the target number to search:\"))\n",
    "            return l1,target\n",
    "def binarySearchasc(arr,target):\n",
    "    start=0\n",
    "    end=len(arr)-1\n",
    "    while start<=end:\n",
    "        mid=(start+end)//2\n",
    "        if target == arr[mid]:\n",
    "            return mid\n",
    "        elif target<arr[mid]:\n",
    "            end=mid-1\n",
    "        else:\n",
    "            start = mid+1\n",
    "    return -1\n",
    "def binarySearchdsc(arr,target):\n",
    "    start=0\n",
    "    end=len(arr)-1\n",
    "    while start<=end:\n",
    "        mid=(start+end)//2\n",
    "        if target == arr[mid]:\n",
    "            return mid\n",
    "        elif target>arr[mid]:\n",
    "            end=mid-1\n",
    "        else:\n",
    "             start=mid+1\n",
    "        return -1\n",
    "arr,target=createListandTarget()\n",
    "if arr[0]<arr[-1]:\n",
    "    binarySearchasc=binarySearchasc(arr,target)\n",
    "    print(\"Element found at index in ascending order:\",binarySearchasc)\n",
    "else:\n",
    "    binarySearchdesc=binarySearchdsc(arr,target)\n",
    "    print(\"Element found at index is descending order:\",binarySearchdesc)\n",
    "    "
   ]
  },
  {
   "cell_type": "code",
   "execution_count": 22,
   "id": "c138d8c4-9bf7-4012-aa37-bd5dcc853d56",
   "metadata": {},
   "outputs": [
    {
     "name": "stdin",
     "output_type": "stream",
     "text": [
      "Enter a number 4\n",
      "Enter a number 7\n",
      "Enter a number 1\n",
      "Enter a number 5\n",
      "Enter a number \n",
      "Enter the target number to search: 5\n"
     ]
    },
    {
     "name": "stdout",
     "output_type": "stream",
     "text": [
      "-1\n"
     ]
    }
   ],
   "source": [
    "\n",
    "def createListandTarget():\n",
    "    l1=[]\n",
    "    while True:\n",
    "        try:\n",
    "            num=int(input(\"Enter a number\"))\n",
    "            l1.append(num)\n",
    "        except Exception as e:\n",
    "            target=int(input(\"Enter the target number to search:\"))\n",
    "            return l1,target\n",
    "def orderagnsticbinarySearch(arr,target):\n",
    "    start=0\n",
    "    end=len(arr)-1\n",
    "    if arr[start]<=arr[end]:\n",
    "        flag=True\n",
    "    else:\n",
    "        flag=False\n",
    "    while start<=end:\n",
    "        mid=(start+end)//2\n",
    "        if target == arr[mid]:\n",
    "            return mid\n",
    "        if flag:\n",
    "            #asc\n",
    "            if target<arr[mid]:\n",
    "                end=mid-1\n",
    "            else:\n",
    "                start=mid+1\n",
    "        else:\n",
    "            #dsc\n",
    "            if target<arr[mid]:\n",
    "                start=mid+1\n",
    "            else:\n",
    "                end=mid-1\n",
    "        \n",
    "      \n",
    "    return -1\n",
    "'''def binarySearchdsc(arr,target):\n",
    "    start=0\n",
    "    end=len(arr)-1\n",
    "    while start<=end:\n",
    "        mid=(start+end)//2\n",
    "        if target == arr[mid]:\n",
    "            return mid\n",
    "        elif target>arr[mid]:\n",
    "            end=mid-1\n",
    "        else:\n",
    "             start=mid+1\n",
    "        return -1'''\n",
    "arr,target=createListandTarget()\n",
    "res = orderagnsticbinarySearch(arr,target)\n",
    "print(res)\n",
    "    "
   ]
  },
  {
   "cell_type": "code",
   "execution_count": 53,
   "id": "1bc8bd52-9582-465e-80cd-b73db6ca696d",
   "metadata": {},
   "outputs": [
    {
     "name": "stdout",
     "output_type": "stream",
     "text": [
      "[0, 1, 2, 3, 4, 5]\n"
     ]
    }
   ],
   "source": [
    "arr=[5,4,3,2,1,0]\n",
    "def reverselist(arr):\n",
    "    i=0\n",
    "    j=len(arr)-1\n",
    "    while i<=j:\n",
    "        arr[i],arr[j]=arr[j],arr[i]\n",
    "        i+=1\n",
    "        j-=1\n",
    "    \n",
    "reverselist(arr)\n",
    "print(arr)\n",
    "        "
   ]
  },
  {
   "cell_type": "code",
   "execution_count": 49,
   "id": "00fcc038-4661-4c42-a337-862d37512b8d",
   "metadata": {},
   "outputs": [
    {
     "name": "stdin",
     "output_type": "stream",
     "text": [
      "enter the number 13\n"
     ]
    },
    {
     "name": "stdout",
     "output_type": "stream",
     "text": [
      "[3, 4, 5, 1, 2]\n"
     ]
    }
   ],
   "source": [
    "#WAP to rotate the array towards the right hand side\n",
    "def reverselist(arr,i,j):\n",
    "    \n",
    "    while i<=j:\n",
    "        arr[i],arr[j]=arr[j],arr[i]\n",
    "        i+=1\n",
    "        j-=1\n",
    "    \n",
    "def rotatearray(arr,k):\n",
    "    n=len(arr)\n",
    "    #step 1\n",
    "    reverselist(arr,0,(n-1))\n",
    "    #step 2\n",
    "    reverselist(arr,0,(k-1))\n",
    "    #step3\n",
    "    reverselist(arr,k,(n-1))\n",
    "\n",
    "arr=[1,2,3,4,5]\n",
    "k=int(input(\"enter the number\"))\n",
    "n=len(arr)\n",
    "if k>=n:\n",
    "    k=k%n\n",
    "rotatearray(arr,k)\n",
    "\n",
    "print(arr)"
   ]
  },
  {
   "cell_type": "code",
   "execution_count": 3,
   "id": "5632e1d2-654c-4517-a8b7-f2178f17436b",
   "metadata": {},
   "outputs": [
    {
     "name": "stdin",
     "output_type": "stream",
     "text": [
      "enter the number 3\n"
     ]
    },
    {
     "name": "stdout",
     "output_type": "stream",
     "text": [
      "[4, 5, 1, 2, 3]\n"
     ]
    }
   ],
   "source": [
    "#WAP to rotate the array towards the left   hand side\n",
    "def reverselist(arr,i,j):\n",
    "    \n",
    "    while i<=j:\n",
    "        arr[i],arr[j]=arr[j],arr[i]\n",
    "        i+=1\n",
    "        j-=1\n",
    "    \n",
    "def rotatearrayleft(arr,k):\n",
    "    n=len(arr)\n",
    "    #step 1\n",
    "    reverselist(arr,k,(n-1))\n",
    "    #step 2\n",
    "    reverselist(arr,0,(k-1))\n",
    "    #step3\n",
    "    reverselist(arr,0,(n-1))\n",
    "\n",
    "arr=[1,2,3,4,5]\n",
    "k=int(input(\"enter the number\"))\n",
    "n=len(arr)\n",
    "if k>=n:\n",
    "    k=k%n\n",
    "rotatearrayleft(arr,k)\n",
    "\n",
    "print(arr)"
   ]
  },
  {
   "cell_type": "code",
   "execution_count": 27,
   "id": "f677b4c7-73fb-4bf4-9efe-44f5fef02fc1",
   "metadata": {},
   "outputs": [
    {
     "name": "stdout",
     "output_type": "stream",
     "text": [
      "[0]\n",
      "[0, 1]\n",
      "[0, 1, 2]\n",
      "[0, 1, 2, 3]\n",
      "[0, 1, 2, 3, 4]\n",
      "[0, 1, 2, 3, 4, 5]\n",
      "[1]\n",
      "[1, 2]\n",
      "[1, 2, 3]\n",
      "[1, 2, 3, 4]\n",
      "[1, 2, 3, 4, 5]\n",
      "[2]\n",
      "[2, 3]\n",
      "[2, 3, 4]\n",
      "[2, 3, 4, 5]\n",
      "[3]\n",
      "[3, 4]\n",
      "[3, 4, 5]\n",
      "[4]\n",
      "[4, 5]\n",
      "[5]\n"
     ]
    }
   ],
   "source": [
    "arr=[0,1,2,3,4,5]\n",
    "n=len(arr)\n",
    "for i in range(0,n):\n",
    "    res=[]\n",
    "    for j in range(i,n):\n",
    "        res.append(arr[j])\n",
    "        print(res)\n"
   ]
  },
  {
   "cell_type": "code",
   "execution_count": 50,
   "id": "de5be362-436b-4ff3-b361-6e678497c3a3",
   "metadata": {},
   "outputs": [
    {
     "name": "stdout",
     "output_type": "stream",
     "text": [
      "15\n"
     ]
    }
   ],
   "source": [
    "arr=[0,1,2,3,4,5]\n",
    "n=len(arr)\n",
    "max=-2**31\n",
    "for i in range(0,n):\n",
    "    res=[]\n",
    "    sum=0\n",
    "    for j in range(i,n):\n",
    "        res.append(arr[j]) \n",
    "        sum=sum+arr[j]\n",
    "        if max<sum:\n",
    "            max=sum\n",
    "print(max)\n",
    "        \n",
    "        "
   ]
  },
  {
   "cell_type": "code",
   "execution_count": 60,
   "id": "b74c8aed-e597-41c7-8a2d-a0aa8b3f32b6",
   "metadata": {},
   "outputs": [
    {
     "name": "stdout",
     "output_type": "stream",
     "text": [
      "0\n"
     ]
    }
   ],
   "source": [
    "arr=[0,1,2,3,4,5]\n",
    "n=len(arr)\n",
    "max=2**31\n",
    "for i in range(0,n):\n",
    "    res=[]\n",
    "    sum=0\n",
    "    for j in range(i,n):\n",
    "        res.append(arr[j])\n",
    "        \n",
    "        sum=sum+arr[j]\n",
    "        if max>sum:\n",
    "            max=sum\n",
    "print(max)\n",
    "        "
   ]
  },
  {
   "cell_type": "code",
   "execution_count": null,
   "id": "eb254b74-a7c7-4232-81ca-e4cb69fbe7f9",
   "metadata": {},
   "outputs": [],
   "source": []
  }
 ],
 "metadata": {
  "kernelspec": {
   "display_name": "Python 3 (ipykernel)",
   "language": "python",
   "name": "python3"
  },
  "language_info": {
   "codemirror_mode": {
    "name": "ipython",
    "version": 3
   },
   "file_extension": ".py",
   "mimetype": "text/x-python",
   "name": "python",
   "nbconvert_exporter": "python",
   "pygments_lexer": "ipython3",
   "version": "3.12.4"
  }
 },
 "nbformat": 4,
 "nbformat_minor": 5
}
